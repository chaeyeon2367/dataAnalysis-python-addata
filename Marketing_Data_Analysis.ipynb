{
  "cells": [
    {
      "cell_type": "markdown",
      "metadata": {
        "id": "view-in-github",
        "colab_type": "text"
      },
      "source": [
        "<a href=\"https://colab.research.google.com/github/chaeyeon2367/addata-python-dataAnalysis/blob/main/Marketing_Data_Analysis.ipynb\" target=\"_parent\"><img src=\"https://colab.research.google.com/assets/colab-badge.svg\" alt=\"Open In Colab\"/></a>"
      ]
    },
    {
      "cell_type": "markdown",
      "metadata": {
        "id": "oE-oB6kfx_d5"
      },
      "source": [
        "# Marketing Data Analysis"
      ]
    },
    {
      "cell_type": "markdown",
      "metadata": {
        "id": "wdSquzdLx_d6"
      },
      "source": [
        "### # Domain Knowledge 2 : Advertising performance indicator\n",
        "| Advertising performance indicator | = | Formula |\n",
        "|:---------- |---------- |:---------- |\n",
        "|CTR(Click Through Rate)|=|Click / Impression * 100|\n",
        "|CPM(Cost Per Mile)|=| Cost /Impression * 1000|\n",
        "|CPC(Cost Per Click)|=|Cost / Click|\n",
        "|CPA(Cost Per Action)|=|Cost / Conversion|"
      ]
    },
    {
      "cell_type": "code",
      "source": [
        "from google.colab import drive\n",
        "drive.mount('/content/drive')"
      ],
      "metadata": {
        "colab": {
          "base_uri": "https://localhost:8080/"
        },
        "id": "gImJX0g-zGTk",
        "outputId": "8ff57c78-5910-4691-bbb0-6b7cd6dd1c2a"
      },
      "execution_count": 1,
      "outputs": [
        {
          "output_type": "stream",
          "name": "stdout",
          "text": [
            "Drive already mounted at /content/drive; to attempt to forcibly remount, call drive.mount(\"/content/drive\", force_remount=True).\n"
          ]
        }
      ]
    },
    {
      "cell_type": "code",
      "execution_count": 2,
      "metadata": {
        "id": "hsP2dE5jx_d7"
      },
      "outputs": [],
      "source": [
        "\n",
        "imp=10000 #Impression\n",
        "clk=100 #click \n",
        "conv=10 #Conversion\n",
        "cost=100000 #Cost"
      ]
    },
    {
      "cell_type": "code",
      "execution_count": 3,
      "metadata": {
        "colab": {
          "base_uri": "https://localhost:8080/"
        },
        "id": "qqIGYa9Tx_d8",
        "outputId": "17ef36bb-43f6-4b24-bd14-f1dcbf79a6ae"
      },
      "outputs": [
        {
          "output_type": "stream",
          "name": "stdout",
          "text": [
            "1.0\n"
          ]
        }
      ],
      "source": [
        "# ctr\n",
        "ctr = clk/imp*100\n",
        "\n",
        "print(ctr)"
      ]
    },
    {
      "cell_type": "code",
      "execution_count": 4,
      "metadata": {
        "colab": {
          "base_uri": "https://localhost:8080/"
        },
        "id": "udeuZ0zux_d8",
        "outputId": "6f2f26f5-8dec-4361-d0a1-6bdd00e2e932"
      },
      "outputs": [
        {
          "output_type": "stream",
          "name": "stdout",
          "text": [
            "10000.0\n"
          ]
        }
      ],
      "source": [
        "# cpm\n",
        "cpm = cost/imp*1000\n",
        "\n",
        "print(cpm)"
      ]
    },
    {
      "cell_type": "code",
      "execution_count": 5,
      "metadata": {
        "colab": {
          "base_uri": "https://localhost:8080/"
        },
        "id": "hFDS5RKMx_d9",
        "outputId": "95acef83-9964-4dda-f91a-ab4776cbcc4d"
      },
      "outputs": [
        {
          "output_type": "stream",
          "name": "stdout",
          "text": [
            "1000.0\n"
          ]
        }
      ],
      "source": [
        "# cpc\n",
        "cpc = cost/clk\n",
        "print(cpc)"
      ]
    },
    {
      "cell_type": "code",
      "execution_count": 6,
      "metadata": {
        "colab": {
          "base_uri": "https://localhost:8080/"
        },
        "id": "fHGjn0yGx_d9",
        "outputId": "44bb0999-78d0-4345-d0b5-24954d6aeff2"
      },
      "outputs": [
        {
          "output_type": "stream",
          "name": "stdout",
          "text": [
            "10000.0\n"
          ]
        }
      ],
      "source": [
        "# cpa \n",
        "cpa = cost/conv\n",
        "print(cpa)"
      ]
    },
    {
      "cell_type": "markdown",
      "metadata": {
        "id": "YhnpwoKYx_d9"
      },
      "source": [
        "# Matplotlib \n",
        "###    - Visualization Library"
      ]
    },
    {
      "cell_type": "markdown",
      "metadata": {
        "id": "kh8Zwf02x_d9"
      },
      "source": [
        "### # Data Analysis Process and Visualization"
      ]
    },
    {
      "cell_type": "markdown",
      "metadata": {
        "id": "6M81Q42px_d-"
      },
      "source": [
        "- the process of machine learning\n",
        "1. Data collection\n",
        "2. Data preprocessing\n",
        "3. Explore data ★\n",
        "4. Select Model\n",
        "5. Model evaluation and application"
      ]
    },
    {
      "cell_type": "markdown",
      "metadata": {
        "id": "JgUQ7_Lvx_d-"
      },
      "source": [
        "### # The need for visualization\n",
        "1. Ability to understand large amounts of data\n",
        "2. Identifying patterns in data"
      ]
    },
    {
      "cell_type": "code",
      "source": [
        "!sudo apt-get install -y fonts-nanum\n",
        "!sudo fc-cache -fv\n",
        "!rm ~/.cache/matplotlib -rf"
      ],
      "metadata": {
        "colab": {
          "base_uri": "https://localhost:8080/"
        },
        "id": "4l_G0cAE9Hac",
        "outputId": "70676a7e-54e1-40b1-8519-db8c750048e7"
      },
      "execution_count": 7,
      "outputs": [
        {
          "output_type": "stream",
          "name": "stdout",
          "text": [
            "Reading package lists... Done\n",
            "Building dependency tree       \n",
            "Reading state information... Done\n",
            "fonts-nanum is already the newest version (20180306-3).\n",
            "0 upgraded, 0 newly installed, 0 to remove and 22 not upgraded.\n",
            "/usr/share/fonts: caching, new cache contents: 0 fonts, 1 dirs\n",
            "/usr/share/fonts/truetype: caching, new cache contents: 0 fonts, 3 dirs\n",
            "/usr/share/fonts/truetype/humor-sans: caching, new cache contents: 1 fonts, 0 dirs\n",
            "/usr/share/fonts/truetype/liberation: caching, new cache contents: 16 fonts, 0 dirs\n",
            "/usr/share/fonts/truetype/nanum: caching, new cache contents: 10 fonts, 0 dirs\n",
            "/usr/local/share/fonts: caching, new cache contents: 0 fonts, 0 dirs\n",
            "/root/.local/share/fonts: skipping, no such directory\n",
            "/root/.fonts: skipping, no such directory\n",
            "/usr/share/fonts/truetype: skipping, looped directory detected\n",
            "/usr/share/fonts/truetype/humor-sans: skipping, looped directory detected\n",
            "/usr/share/fonts/truetype/liberation: skipping, looped directory detected\n",
            "/usr/share/fonts/truetype/nanum: skipping, looped directory detected\n",
            "/var/cache/fontconfig: cleaning cache directory\n",
            "/root/.cache/fontconfig: not cleaning non-existent cache directory\n",
            "/root/.fontconfig: not cleaning non-existent cache directory\n",
            "fc-cache: succeeded\n"
          ]
        }
      ]
    },
    {
      "cell_type": "code",
      "execution_count": 20,
      "metadata": {
        "id": "x1Nquyixx_d-"
      },
      "outputs": [],
      "source": [
        "import matplotlib.pyplot as plt\n",
        "plt.rc('font', family='NanumBarunGothic') "
      ]
    },
    {
      "cell_type": "code",
      "execution_count": 10,
      "metadata": {
        "id": "BdLVtRGex_d-"
      },
      "outputs": [],
      "source": [
        "import pandas as pd\n",
        "from pandas import DataFrame\n",
        "from pandas import Series"
      ]
    },
    {
      "cell_type": "code",
      "execution_count": 12,
      "metadata": {
        "id": "z2p_9jESx_d_"
      },
      "outputs": [],
      "source": [
        "import pandas as pd\n",
        "from pandas import DataFrame\n",
        "from pandas import Series"
      ]
    },
    {
      "cell_type": "code",
      "execution_count": 23,
      "metadata": {
        "id": "3BCvvM93x_d_"
      },
      "outputs": [],
      "source": [
        "df=pd.read_excel('/content/sample_data/Data_Project/Naver_report.xls',skiprows=[0])"
      ]
    },
    {
      "cell_type": "code",
      "execution_count": 24,
      "metadata": {
        "colab": {
          "base_uri": "https://localhost:8080/",
          "height": 537
        },
        "id": "XG9FlVJNx_d_",
        "outputId": "267026d7-d92d-42a7-afff-bbe76c288f01"
      },
      "outputs": [
        {
          "output_type": "execute_result",
          "data": {
            "text/plain": [
              "                            광고그룹       키워드      노출수     클릭수    클릭률(%)  \\\n",
              "0      올인원 패키지 : 디자인 툴_파워컨텐츠_포토샵         -  2319456  9606.0  0.414149   \n",
              "1            올인원 패키지 : 업무자동화_VBA         -   767491  8058.0  1.049915   \n",
              "2          ㅍAOP 전체_중복키워드_디자인(삭제)      일러스트  1137840   324.0  0.028475   \n",
              "3     올인원 패키지 : 데이터 분석 입문 온라인_파콘         -   694106  1863.6  0.268489   \n",
              "4                        3. html      HTML  9626374   813.6  0.008452   \n",
              "...                          ...       ...      ...     ...       ...   \n",
              "1376       올인원 패키지 : 업무자동화_3. 엑셀     엑셀셀서식    24016     0.0  0.000000   \n",
              "1377       올인원 패키지 : 업무자동화_3. 엑셀     MATCH    32287     0.0  0.000000   \n",
              "1378                    마케팅KPI수립       LTV    32602     0.0  0.000000   \n",
              "1379             data_camp_rmp_8  DECISION    60844     0.0  0.000000   \n",
              "1380                    4. 웹의 동작      REST    61193     0.0  0.000000   \n",
              "\n",
              "      평균클릭비용(VAT포함,원)  총비용(VAT포함,원)  \n",
              "0          261.549448       2512444  \n",
              "1          295.974808       2384965  \n",
              "2         4841.663580       1568699  \n",
              "3          630.593475       1175174  \n",
              "4         1408.435349       1145903  \n",
              "...               ...           ...  \n",
              "1376         0.000000             0  \n",
              "1377         0.000000             0  \n",
              "1378         0.000000             0  \n",
              "1379         0.000000             0  \n",
              "1380         0.000000             0  \n",
              "\n",
              "[1381 rows x 7 columns]"
            ],
            "text/html": [
              "\n",
              "  <div id=\"df-e3d734d7-d762-451f-bb85-06ba5050259e\">\n",
              "    <div class=\"colab-df-container\">\n",
              "      <div>\n",
              "<style scoped>\n",
              "    .dataframe tbody tr th:only-of-type {\n",
              "        vertical-align: middle;\n",
              "    }\n",
              "\n",
              "    .dataframe tbody tr th {\n",
              "        vertical-align: top;\n",
              "    }\n",
              "\n",
              "    .dataframe thead th {\n",
              "        text-align: right;\n",
              "    }\n",
              "</style>\n",
              "<table border=\"1\" class=\"dataframe\">\n",
              "  <thead>\n",
              "    <tr style=\"text-align: right;\">\n",
              "      <th></th>\n",
              "      <th>광고그룹</th>\n",
              "      <th>키워드</th>\n",
              "      <th>노출수</th>\n",
              "      <th>클릭수</th>\n",
              "      <th>클릭률(%)</th>\n",
              "      <th>평균클릭비용(VAT포함,원)</th>\n",
              "      <th>총비용(VAT포함,원)</th>\n",
              "    </tr>\n",
              "  </thead>\n",
              "  <tbody>\n",
              "    <tr>\n",
              "      <th>0</th>\n",
              "      <td>올인원 패키지 : 디자인 툴_파워컨텐츠_포토샵</td>\n",
              "      <td>-</td>\n",
              "      <td>2319456</td>\n",
              "      <td>9606.0</td>\n",
              "      <td>0.414149</td>\n",
              "      <td>261.549448</td>\n",
              "      <td>2512444</td>\n",
              "    </tr>\n",
              "    <tr>\n",
              "      <th>1</th>\n",
              "      <td>올인원 패키지 : 업무자동화_VBA</td>\n",
              "      <td>-</td>\n",
              "      <td>767491</td>\n",
              "      <td>8058.0</td>\n",
              "      <td>1.049915</td>\n",
              "      <td>295.974808</td>\n",
              "      <td>2384965</td>\n",
              "    </tr>\n",
              "    <tr>\n",
              "      <th>2</th>\n",
              "      <td>ㅍAOP 전체_중복키워드_디자인(삭제)</td>\n",
              "      <td>일러스트</td>\n",
              "      <td>1137840</td>\n",
              "      <td>324.0</td>\n",
              "      <td>0.028475</td>\n",
              "      <td>4841.663580</td>\n",
              "      <td>1568699</td>\n",
              "    </tr>\n",
              "    <tr>\n",
              "      <th>3</th>\n",
              "      <td>올인원 패키지 : 데이터 분석 입문 온라인_파콘</td>\n",
              "      <td>-</td>\n",
              "      <td>694106</td>\n",
              "      <td>1863.6</td>\n",
              "      <td>0.268489</td>\n",
              "      <td>630.593475</td>\n",
              "      <td>1175174</td>\n",
              "    </tr>\n",
              "    <tr>\n",
              "      <th>4</th>\n",
              "      <td>3. html</td>\n",
              "      <td>HTML</td>\n",
              "      <td>9626374</td>\n",
              "      <td>813.6</td>\n",
              "      <td>0.008452</td>\n",
              "      <td>1408.435349</td>\n",
              "      <td>1145903</td>\n",
              "    </tr>\n",
              "    <tr>\n",
              "      <th>...</th>\n",
              "      <td>...</td>\n",
              "      <td>...</td>\n",
              "      <td>...</td>\n",
              "      <td>...</td>\n",
              "      <td>...</td>\n",
              "      <td>...</td>\n",
              "      <td>...</td>\n",
              "    </tr>\n",
              "    <tr>\n",
              "      <th>1376</th>\n",
              "      <td>올인원 패키지 : 업무자동화_3. 엑셀</td>\n",
              "      <td>엑셀셀서식</td>\n",
              "      <td>24016</td>\n",
              "      <td>0.0</td>\n",
              "      <td>0.000000</td>\n",
              "      <td>0.000000</td>\n",
              "      <td>0</td>\n",
              "    </tr>\n",
              "    <tr>\n",
              "      <th>1377</th>\n",
              "      <td>올인원 패키지 : 업무자동화_3. 엑셀</td>\n",
              "      <td>MATCH</td>\n",
              "      <td>32287</td>\n",
              "      <td>0.0</td>\n",
              "      <td>0.000000</td>\n",
              "      <td>0.000000</td>\n",
              "      <td>0</td>\n",
              "    </tr>\n",
              "    <tr>\n",
              "      <th>1378</th>\n",
              "      <td>마케팅KPI수립</td>\n",
              "      <td>LTV</td>\n",
              "      <td>32602</td>\n",
              "      <td>0.0</td>\n",
              "      <td>0.000000</td>\n",
              "      <td>0.000000</td>\n",
              "      <td>0</td>\n",
              "    </tr>\n",
              "    <tr>\n",
              "      <th>1379</th>\n",
              "      <td>data_camp_rmp_8</td>\n",
              "      <td>DECISION</td>\n",
              "      <td>60844</td>\n",
              "      <td>0.0</td>\n",
              "      <td>0.000000</td>\n",
              "      <td>0.000000</td>\n",
              "      <td>0</td>\n",
              "    </tr>\n",
              "    <tr>\n",
              "      <th>1380</th>\n",
              "      <td>4. 웹의 동작</td>\n",
              "      <td>REST</td>\n",
              "      <td>61193</td>\n",
              "      <td>0.0</td>\n",
              "      <td>0.000000</td>\n",
              "      <td>0.000000</td>\n",
              "      <td>0</td>\n",
              "    </tr>\n",
              "  </tbody>\n",
              "</table>\n",
              "<p>1381 rows × 7 columns</p>\n",
              "</div>\n",
              "      <button class=\"colab-df-convert\" onclick=\"convertToInteractive('df-e3d734d7-d762-451f-bb85-06ba5050259e')\"\n",
              "              title=\"Convert this dataframe to an interactive table.\"\n",
              "              style=\"display:none;\">\n",
              "        \n",
              "  <svg xmlns=\"http://www.w3.org/2000/svg\" height=\"24px\"viewBox=\"0 0 24 24\"\n",
              "       width=\"24px\">\n",
              "    <path d=\"M0 0h24v24H0V0z\" fill=\"none\"/>\n",
              "    <path d=\"M18.56 5.44l.94 2.06.94-2.06 2.06-.94-2.06-.94-.94-2.06-.94 2.06-2.06.94zm-11 1L8.5 8.5l.94-2.06 2.06-.94-2.06-.94L8.5 2.5l-.94 2.06-2.06.94zm10 10l.94 2.06.94-2.06 2.06-.94-2.06-.94-.94-2.06-.94 2.06-2.06.94z\"/><path d=\"M17.41 7.96l-1.37-1.37c-.4-.4-.92-.59-1.43-.59-.52 0-1.04.2-1.43.59L10.3 9.45l-7.72 7.72c-.78.78-.78 2.05 0 2.83L4 21.41c.39.39.9.59 1.41.59.51 0 1.02-.2 1.41-.59l7.78-7.78 2.81-2.81c.8-.78.8-2.07 0-2.86zM5.41 20L4 18.59l7.72-7.72 1.47 1.35L5.41 20z\"/>\n",
              "  </svg>\n",
              "      </button>\n",
              "      \n",
              "  <style>\n",
              "    .colab-df-container {\n",
              "      display:flex;\n",
              "      flex-wrap:wrap;\n",
              "      gap: 12px;\n",
              "    }\n",
              "\n",
              "    .colab-df-convert {\n",
              "      background-color: #E8F0FE;\n",
              "      border: none;\n",
              "      border-radius: 50%;\n",
              "      cursor: pointer;\n",
              "      display: none;\n",
              "      fill: #1967D2;\n",
              "      height: 32px;\n",
              "      padding: 0 0 0 0;\n",
              "      width: 32px;\n",
              "    }\n",
              "\n",
              "    .colab-df-convert:hover {\n",
              "      background-color: #E2EBFA;\n",
              "      box-shadow: 0px 1px 2px rgba(60, 64, 67, 0.3), 0px 1px 3px 1px rgba(60, 64, 67, 0.15);\n",
              "      fill: #174EA6;\n",
              "    }\n",
              "\n",
              "    [theme=dark] .colab-df-convert {\n",
              "      background-color: #3B4455;\n",
              "      fill: #D2E3FC;\n",
              "    }\n",
              "\n",
              "    [theme=dark] .colab-df-convert:hover {\n",
              "      background-color: #434B5C;\n",
              "      box-shadow: 0px 1px 3px 1px rgba(0, 0, 0, 0.15);\n",
              "      filter: drop-shadow(0px 1px 2px rgba(0, 0, 0, 0.3));\n",
              "      fill: #FFFFFF;\n",
              "    }\n",
              "  </style>\n",
              "\n",
              "      <script>\n",
              "        const buttonEl =\n",
              "          document.querySelector('#df-e3d734d7-d762-451f-bb85-06ba5050259e button.colab-df-convert');\n",
              "        buttonEl.style.display =\n",
              "          google.colab.kernel.accessAllowed ? 'block' : 'none';\n",
              "\n",
              "        async function convertToInteractive(key) {\n",
              "          const element = document.querySelector('#df-e3d734d7-d762-451f-bb85-06ba5050259e');\n",
              "          const dataTable =\n",
              "            await google.colab.kernel.invokeFunction('convertToInteractive',\n",
              "                                                     [key], {});\n",
              "          if (!dataTable) return;\n",
              "\n",
              "          const docLinkHtml = 'Like what you see? Visit the ' +\n",
              "            '<a target=\"_blank\" href=https://colab.research.google.com/notebooks/data_table.ipynb>data table notebook</a>'\n",
              "            + ' to learn more about interactive tables.';\n",
              "          element.innerHTML = '';\n",
              "          dataTable['output_type'] = 'display_data';\n",
              "          await google.colab.output.renderOutput(dataTable, element);\n",
              "          const docLink = document.createElement('div');\n",
              "          docLink.innerHTML = docLinkHtml;\n",
              "          element.appendChild(docLink);\n",
              "        }\n",
              "      </script>\n",
              "    </div>\n",
              "  </div>\n",
              "  "
            ]
          },
          "metadata": {},
          "execution_count": 24
        }
      ],
      "source": [
        "df"
      ]
    },
    {
      "cell_type": "code",
      "execution_count": 25,
      "metadata": {
        "scrolled": true,
        "colab": {
          "base_uri": "https://localhost:8080/",
          "height": 342
        },
        "id": "36DYfJtNx_d_",
        "outputId": "2941030e-3629-40d1-f7e1-b5658659bf1e"
      },
      "outputs": [
        {
          "output_type": "display_data",
          "data": {
            "text/plain": [
              "<Figure size 936x360 with 1 Axes>"
            ],
            "image/png": "[encoded data removed]"
          },
          "metadata": {
            "needs_background": "light"
          }
        }
      ],
      "source": [
        "((((df['노출수'].sort_values())/1000).reset_index()).drop('index',axis=1)).plot(figsize=[13,5])\n",
        "plt.yticks([0,2000,4000,6000,8000,10000],[0,'2,000,000','4,000,000','6,000,000','8,000,000','10,000,000'])\n",
        "plt.title('Impression plot',fontsize=20)\n",
        "plt.show()"
      ]
    },
    {
      "cell_type": "markdown",
      "metadata": {
        "id": "0v_JSDatx_eA"
      },
      "source": [
        "- Visualization library matplotlib\n",
        "- Matplotlib can be used with Pandas data frames and series data structures.\n",
        "- This allows for visualization as well as data processing\n",
        "- If anaconda is installed, no separate installation process is required."
      ]
    },
    {
      "cell_type": "code",
      "execution_count": 16,
      "metadata": {
        "id": "297tEVehx_eA"
      },
      "outputs": [],
      "source": [
        "# matplotlib import\n",
        "import matplotlib.pyplot as plt"
      ]
    },
    {
      "cell_type": "code",
      "execution_count": 17,
      "metadata": {
        "id": "SjUE7_gbx_eA"
      },
      "outputs": [],
      "source": [
        "# pandas, DataFrame, Series import\n",
        "import pandas as pd\n",
        "from pandas import DataFrame\n",
        "from pandas import Series"
      ]
    },
    {
      "cell_type": "markdown",
      "metadata": {
        "id": "3Gu6YKzxx_eA"
      },
      "source": [
        "### # Visualizing Data Frames"
      ]
    },
    {
      "cell_type": "code",
      "execution_count": 26,
      "metadata": {
        "id": "ZDGlj61wx_eB"
      },
      "outputs": [],
      "source": [
        "#Create Data Frame Variables\n",
        "dict_data={\"철수\":[1,2,3,4],\"영희\":[2,3,4,5],\"민수\":[3,4,5,6],\"수진\":[4,5,6,7]}\n",
        "df=DataFrame(dict_data)"
      ]
    },
    {
      "cell_type": "code",
      "execution_count": 27,
      "metadata": {
        "scrolled": true,
        "id": "KNs7qewXx_eB",
        "outputId": "14abb7eb-00bc-448f-eb1a-0790b740d519",
        "colab": {
          "base_uri": "https://localhost:8080/",
          "height": 175
        }
      },
      "outputs": [
        {
          "output_type": "execute_result",
          "data": {
            "text/plain": [
              "   철수  영희  민수  수진\n",
              "0   1   2   3   4\n",
              "1   2   3   4   5\n",
              "2   3   4   5   6\n",
              "3   4   5   6   7"
            ],
            "text/html": [
              "\n",
              "  <div id=\"df-03de70ac-3855-48f7-9818-f2a703d656cc\">\n",
              "    <div class=\"colab-df-container\">\n",
              "      <div>\n",
              "<style scoped>\n",
              "    .dataframe tbody tr th:only-of-type {\n",
              "        vertical-align: middle;\n",
              "    }\n",
              "\n",
              "    .dataframe tbody tr th {\n",
              "        vertical-align: top;\n",
              "    }\n",
              "\n",
              "    .dataframe thead th {\n",
              "        text-align: right;\n",
              "    }\n",
              "</style>\n",
              "<table border=\"1\" class=\"dataframe\">\n",
              "  <thead>\n",
              "    <tr style=\"text-align: right;\">\n",
              "      <th></th>\n",
              "      <th>철수</th>\n",
              "      <th>영희</th>\n",
              "      <th>민수</th>\n",
              "      <th>수진</th>\n",
              "    </tr>\n",
              "  </thead>\n",
              "  <tbody>\n",
              "    <tr>\n",
              "      <th>0</th>\n",
              "      <td>1</td>\n",
              "      <td>2</td>\n",
              "      <td>3</td>\n",
              "      <td>4</td>\n",
              "    </tr>\n",
              "    <tr>\n",
              "      <th>1</th>\n",
              "      <td>2</td>\n",
              "      <td>3</td>\n",
              "      <td>4</td>\n",
              "      <td>5</td>\n",
              "    </tr>\n",
              "    <tr>\n",
              "      <th>2</th>\n",
              "      <td>3</td>\n",
              "      <td>4</td>\n",
              "      <td>5</td>\n",
              "      <td>6</td>\n",
              "    </tr>\n",
              "    <tr>\n",
              "      <th>3</th>\n",
              "      <td>4</td>\n",
              "      <td>5</td>\n",
              "      <td>6</td>\n",
              "      <td>7</td>\n",
              "    </tr>\n",
              "  </tbody>\n",
              "</table>\n",
              "</div>\n",
              "      <button class=\"colab-df-convert\" onclick=\"convertToInteractive('df-03de70ac-3855-48f7-9818-f2a703d656cc')\"\n",
              "              title=\"Convert this dataframe to an interactive table.\"\n",
              "              style=\"display:none;\">\n",
              "        \n",
              "  <svg xmlns=\"http://www.w3.org/2000/svg\" height=\"24px\"viewBox=\"0 0 24 24\"\n",
              "       width=\"24px\">\n",
              "    <path d=\"M0 0h24v24H0V0z\" fill=\"none\"/>\n",
              "    <path d=\"M18.56 5.44l.94 2.06.94-2.06 2.06-.94-2.06-.94-.94-2.06-.94 2.06-2.06.94zm-11 1L8.5 8.5l.94-2.06 2.06-.94-2.06-.94L8.5 2.5l-.94 2.06-2.06.94zm10 10l.94 2.06.94-2.06 2.06-.94-2.06-.94-.94-2.06-.94 2.06-2.06.94z\"/><path d=\"M17.41 7.96l-1.37-1.37c-.4-.4-.92-.59-1.43-.59-.52 0-1.04.2-1.43.59L10.3 9.45l-7.72 7.72c-.78.78-.78 2.05 0 2.83L4 21.41c.39.39.9.59 1.41.59.51 0 1.02-.2 1.41-.59l7.78-7.78 2.81-2.81c.8-.78.8-2.07 0-2.86zM5.41 20L4 18.59l7.72-7.72 1.47 1.35L5.41 20z\"/>\n",
              "  </svg>\n",
              "      </button>\n",
              "      \n",
              "  <style>\n",
              "    .colab-df-container {\n",
              "      display:flex;\n",
              "      flex-wrap:wrap;\n",
              "      gap: 12px;\n",
              "    }\n",
              "\n",
              "    .colab-df-convert {\n",
              "      background-color: #E8F0FE;\n",
              "      border: none;\n",
              "      border-radius: 50%;\n",
              "      cursor: pointer;\n",
              "      display: none;\n",
              "      fill: #1967D2;\n",
              "      height: 32px;\n",
              "      padding: 0 0 0 0;\n",
              "      width: 32px;\n",
              "    }\n",
              "\n",
              "    .colab-df-convert:hover {\n",
              "      background-color: #E2EBFA;\n",
              "      box-shadow: 0px 1px 2px rgba(60, 64, 67, 0.3), 0px 1px 3px 1px rgba(60, 64, 67, 0.15);\n",
              "      fill: #174EA6;\n",
              "    }\n",
              "\n",
              "    [theme=dark] .colab-df-convert {\n",
              "      background-color: #3B4455;\n",
              "      fill: #D2E3FC;\n",
              "    }\n",
              "\n",
              "    [theme=dark] .colab-df-convert:hover {\n",
              "      background-color: #434B5C;\n",
              "      box-shadow: 0px 1px 3px 1px rgba(0, 0, 0, 0.15);\n",
              "      filter: drop-shadow(0px 1px 2px rgba(0, 0, 0, 0.3));\n",
              "      fill: #FFFFFF;\n",
              "    }\n",
              "  </style>\n",
              "\n",
              "      <script>\n",
              "        const buttonEl =\n",
              "          document.querySelector('#df-03de70ac-3855-48f7-9818-f2a703d656cc button.colab-df-convert');\n",
              "        buttonEl.style.display =\n",
              "          google.colab.kernel.accessAllowed ? 'block' : 'none';\n",
              "\n",
              "        async function convertToInteractive(key) {\n",
              "          const element = document.querySelector('#df-03de70ac-3855-48f7-9818-f2a703d656cc');\n",
              "          const dataTable =\n",
              "            await google.colab.kernel.invokeFunction('convertToInteractive',\n",
              "                                                     [key], {});\n",
              "          if (!dataTable) return;\n",
              "\n",
              "          const docLinkHtml = 'Like what you see? Visit the ' +\n",
              "            '<a target=\"_blank\" href=https://colab.research.google.com/notebooks/data_table.ipynb>data table notebook</a>'\n",
              "            + ' to learn more about interactive tables.';\n",
              "          element.innerHTML = '';\n",
              "          dataTable['output_type'] = 'display_data';\n",
              "          await google.colab.output.renderOutput(dataTable, element);\n",
              "          const docLink = document.createElement('div');\n",
              "          docLink.innerHTML = docLinkHtml;\n",
              "          element.appendChild(docLink);\n",
              "        }\n",
              "      </script>\n",
              "    </div>\n",
              "  </div>\n",
              "  "
            ]
          },
          "metadata": {},
          "execution_count": 27
        }
      ],
      "source": [
        "df"
      ]
    },
    {
      "cell_type": "markdown",
      "metadata": {
        "id": "f37oBZevx_eB"
      },
      "source": [
        "### # Plot the chart"
      ]
    },
    {
      "cell_type": "code",
      "execution_count": 29,
      "metadata": {
        "id": "wAUGZvucx_eB",
        "outputId": "37d017f8-a7f2-49ea-e615-18e1463ecd2a",
        "colab": {
          "base_uri": "https://localhost:8080/",
          "height": 265
        }
      },
      "outputs": [
        {
          "output_type": "display_data",
          "data": {
            "text/plain": [
              "<Figure size 432x288 with 1 Axes>"
            ],
            "image/png": "[encoded data removed]"
          },
          "metadata": {
            "needs_background": "light"
          }
        }
      ],
      "source": [
        "#line graph\n",
        "df.plot()\n",
        "plt.show()\n"
      ]
    },
    {
      "cell_type": "code",
      "execution_count": 30,
      "metadata": {
        "id": "PXJ3Oo_9x_eB",
        "outputId": "20d90638-815b-4f0c-a839-b2a78613ebdb",
        "colab": {
          "base_uri": "https://localhost:8080/",
          "height": 261
        }
      },
      "outputs": [
        {
          "output_type": "display_data",
          "data": {
            "text/plain": [
              "<Figure size 432x288 with 1 Axes>"
            ],
            "image/png": "[encoded data removed]"
          },
          "metadata": {
            "needs_background": "light"
          }
        }
      ],
      "source": [
        "# bar graph\n",
        "df.plot.bar()\n",
        "plt.show()\n"
      ]
    },
    {
      "cell_type": "code",
      "execution_count": 32,
      "metadata": {
        "scrolled": true,
        "id": "iYcg3CTCx_eB",
        "outputId": "ea25c80c-3125-4ae9-a506-c580cfab2d7b",
        "colab": {
          "base_uri": "https://localhost:8080/",
          "height": 265
        }
      },
      "outputs": [
        {
          "output_type": "display_data",
          "data": {
            "text/plain": [
              "<Figure size 432x288 with 1 Axes>"
            ],
            "image/png": "[encoded data removed]"
          },
          "metadata": {
            "needs_background": "light"
          }
        }
      ],
      "source": [
        "# horizontal bar graph\n",
        "df.plot.barh()\n",
        "plt.show()"
      ]
    },
    {
      "cell_type": "code",
      "execution_count": 33,
      "metadata": {
        "scrolled": true,
        "id": "rA0_WZiix_eB",
        "outputId": "17e43b93-79c8-4f4e-96bf-6902aedb5246",
        "colab": {
          "base_uri": "https://localhost:8080/",
          "height": 265
        }
      },
      "outputs": [
        {
          "output_type": "display_data",
          "data": {
            "text/plain": [
              "<Figure size 432x288 with 1 Axes>"
            ],
            "image/png": "[encoded data removed]"
          },
          "metadata": {
            "needs_background": "light"
          }
        }
      ],
      "source": [
        "# Histogram\n",
        "df.plot.hist()\n",
        "plt.show()\n"
      ]
    },
    {
      "cell_type": "code",
      "execution_count": 34,
      "metadata": {
        "scrolled": false,
        "id": "FTcw-Vvzx_eC",
        "outputId": "1f7ae30c-b2b4-428a-f36b-7b995d37b2fd",
        "colab": {
          "base_uri": "https://localhost:8080/",
          "height": 265
        }
      },
      "outputs": [
        {
          "output_type": "display_data",
          "data": {
            "text/plain": [
              "<Figure size 432x288 with 1 Axes>"
            ],
            "image/png": "[encoded data removed]"
          },
          "metadata": {
            "needs_background": "light"
          }
        }
      ],
      "source": [
        "# Histogram Interval Settings\n",
        "df.plot.hist(bins=range(1,9,1))\n",
        "plt.show()"
      ]
    },
    {
      "cell_type": "markdown",
      "metadata": {
        "id": "qWbOtqL8x_eC"
      },
      "source": [
        "### # add options to a chart"
      ]
    },
    {
      "cell_type": "code",
      "execution_count": 36,
      "metadata": {
        "scrolled": true,
        "id": "Mo0zzDvpx_eC",
        "outputId": "0352b94d-a2c7-40d4-bc80-3cf91477c980",
        "colab": {
          "base_uri": "https://localhost:8080/",
          "height": 261
        }
      },
      "outputs": [
        {
          "output_type": "display_data",
          "data": {
            "text/plain": [
              "<Figure size 432x288 with 1 Axes>"
            ],
            "image/png": "[encoded data removed]"
          },
          "metadata": {
            "needs_background": "light"
          }
        }
      ],
      "source": [
        "# Default bar graph\n",
        "df.plot.bar()\n",
        "plt.show()"
      ]
    },
    {
      "cell_type": "code",
      "execution_count": 37,
      "metadata": {
        "scrolled": true,
        "id": "pS9_1Bhjx_eC",
        "outputId": "199b2c6c-4e77-4964-92ef-ae4976d11a04",
        "colab": {
          "base_uri": "https://localhost:8080/",
          "height": 370
        }
      },
      "outputs": [
        {
          "output_type": "display_data",
          "data": {
            "text/plain": [
              "<Figure size 720x432 with 1 Axes>"
            ],
            "image/png": "[encoded data removed]"
          },
          "metadata": {
            "needs_background": "light"
          }
        }
      ],
      "source": [
        "# Graph Size Settings\n",
        "df.plot.bar(figsize=[10,6])\n",
        "plt.show()\n"
      ]
    },
    {
      "cell_type": "code",
      "execution_count": 38,
      "metadata": {
        "id": "YCXLf7hCx_eC",
        "outputId": "47a279be-f522-4aac-d5d9-ab17cbf5699d",
        "colab": {
          "base_uri": "https://localhost:8080/",
          "height": 385
        }
      },
      "outputs": [
        {
          "output_type": "display_data",
          "data": {
            "text/plain": [
              "<Figure size 720x432 with 1 Axes>"
            ],
            "image/png": "[encoded data removed]"
          },
          "metadata": {
            "needs_background": "light"
          }
        }
      ],
      "source": [
        "# Set Title\n",
        "df.plot.bar(figsize=[10,6])\n",
        "plt.title('Example')\n",
        "plt.show()"
      ]
    },
    {
      "cell_type": "code",
      "execution_count": 39,
      "metadata": {
        "id": "-BHIKypVx_eC",
        "outputId": "33a0294c-507e-4d43-c294-5f991553264f",
        "colab": {
          "base_uri": "https://localhost:8080/",
          "height": 391
        }
      },
      "outputs": [
        {
          "output_type": "display_data",
          "data": {
            "text/plain": [
              "<Figure size 720x432 with 1 Axes>"
            ],
            "image/png": "[encoded data removed]"
          },
          "metadata": {
            "needs_background": "light"
          }
        }
      ],
      "source": [
        "# Set Title font size\n",
        "df.plot.bar(figsize=[10,6])\n",
        "plt.title('Example',fontsize=18)\n",
        "plt.show()"
      ]
    },
    {
      "cell_type": "code",
      "execution_count": 40,
      "metadata": {
        "id": "FmPSdddox_eC",
        "outputId": "dc210e1d-4968-40dc-ae26-0c9d9ebf88a6",
        "colab": {
          "base_uri": "https://localhost:8080/",
          "height": 413
        }
      },
      "outputs": [
        {
          "output_type": "display_data",
          "data": {
            "text/plain": [
              "<Figure size 720x432 with 1 Axes>"
            ],
            "image/png": "[encoded data removed]"
          },
          "metadata": {
            "needs_background": "light"
          }
        }
      ],
      "source": [
        "# Setting the x-axis name\n",
        "df.plot.bar(figsize=[10,6])\n",
        "plt.title('Example',fontsize=18)\n",
        "plt.xlabel('xlabel', fontsize=16)\n",
        "plt.show()\n"
      ]
    },
    {
      "cell_type": "code",
      "execution_count": 41,
      "metadata": {
        "id": "OW8inogBx_eC",
        "outputId": "5d46f2d6-bd6b-452e-b744-ea3671939ace",
        "colab": {
          "base_uri": "https://localhost:8080/",
          "height": 413
        }
      },
      "outputs": [
        {
          "output_type": "display_data",
          "data": {
            "text/plain": [
              "<Figure size 720x432 with 1 Axes>"
            ],
            "image/png": "[encoded data removed]"
          },
          "metadata": {
            "needs_background": "light"
          }
        }
      ],
      "source": [
        "# Setting the x-axis name and font size\n",
        "df.plot.bar(figsize=[10,6])\n",
        "plt.title('Example',fontsize=18)\n",
        "plt.xlabel('xlabel', fontsize=16)\n",
        "plt.xlabel('ylabel', fontsize=16)\n",
        "plt.show()\n"
      ]
    },
    {
      "cell_type": "code",
      "execution_count": 44,
      "metadata": {
        "id": "aZK9HhDkx_eD",
        "outputId": "fe8f4e79-e4d5-44f9-dcfc-032810ea4b90",
        "colab": {
          "base_uri": "https://localhost:8080/",
          "height": 417
        }
      },
      "outputs": [
        {
          "output_type": "display_data",
          "data": {
            "text/plain": [
              "<Figure size 720x432 with 1 Axes>"
            ],
            "image/png": "[encoded data removed]"
          },
          "metadata": {
            "needs_background": "light"
          }
        }
      ],
      "source": [
        "# Set y-axis name and font size\n",
        "df.plot.bar(figsize=[10,6])\n",
        "plt.title('Example',fontsize=18)\n",
        "plt.xlabel('xlabel', fontsize=16)\n",
        "plt.xlabel('ylabel', fontsize=16)\n",
        "plt.xticks([0,1,2],['first','second','third'],fontsize=10,rotation=0)\n",
        "plt.show()"
      ]
    },
    {
      "cell_type": "code",
      "execution_count": 48,
      "metadata": {
        "id": "9vLW68q2x_eD",
        "outputId": "31df0e57-bdd1-41e4-e557-921b9b94e84f",
        "colab": {
          "base_uri": "https://localhost:8080/",
          "height": 417
        }
      },
      "outputs": [
        {
          "output_type": "display_data",
          "data": {
            "text/plain": [
              "<Figure size 720x432 with 1 Axes>"
            ],
            "image/png": "[encoded data removed]"
          },
          "metadata": {
            "needs_background": "light"
          }
        }
      ],
      "source": [
        "# Setting the x-axis tick\n",
        "# Position of tick to be set, name of tick, font size, angle\n",
        "\n",
        "df.plot.bar(figsize=[10,6])\n",
        "plt.title('Example',fontsize=18)\n",
        "plt.xlabel('xlabel', fontsize=16)\n",
        "plt.xlabel('ylabel', fontsize=16)\n",
        "plt.xticks([0,1,2],['first','second','third'],fontsize=10,rotation=0)\n",
        "plt.xticks([1,3,5,7],['first','third','fifth','Seventh'])\n",
        "plt.xlim([-1,4])\n",
        "plt.show()\n"
      ]
    },
    {
      "cell_type": "code",
      "execution_count": 49,
      "metadata": {
        "scrolled": true,
        "id": "3kzsxYKrx_eD",
        "outputId": "a98e710c-240d-43a2-dea2-5437d88f2c9a",
        "colab": {
          "base_uri": "https://localhost:8080/",
          "height": 417
        }
      },
      "outputs": [
        {
          "output_type": "display_data",
          "data": {
            "text/plain": [
              "<Figure size 720x432 with 1 Axes>"
            ],
            "image/png": "[encoded data removed]"
          },
          "metadata": {
            "needs_background": "light"
          }
        }
      ],
      "source": [
        "# y축 범위설정\n",
        "df.plot.bar(figsize=[10,6])\n",
        "plt.title('Example',fontsize=18)\n",
        "plt.xlabel('xlabel', fontsize=16)\n",
        "plt.xlabel('ylabel', fontsize=16)\n",
        "plt.xticks([0,1,2],['first','second','third'],fontsize=10,rotation=0)\n",
        "plt.xticks([1,3,5,7],['first','third','fifth','Seventh'])\n",
        "plt.xlim([-1,4])\n",
        "plt.ylim([-1,8])\n",
        "plt.show()"
      ]
    },
    {
      "cell_type": "markdown",
      "metadata": {
        "id": "mmAHytv6x_eD"
      },
      "source": [
        "### # Series Visualization"
      ]
    },
    {
      "cell_type": "code",
      "execution_count": 50,
      "metadata": {
        "id": "T21iwZf9x_eD",
        "outputId": "f133271d-9091-450b-ebaa-50b1d0c0b33a",
        "colab": {
          "base_uri": "https://localhost:8080/"
        }
      },
      "outputs": [
        {
          "output_type": "execute_result",
          "data": {
            "text/plain": [
              "0    1\n",
              "1    2\n",
              "2    3\n",
              "3    4\n",
              "Name: 철수, dtype: int64"
            ]
          },
          "metadata": {},
          "execution_count": 50
        }
      ],
      "source": [
        "# Data Frame Columns = Series\n",
        "df['철수']"
      ]
    },
    {
      "cell_type": "code",
      "execution_count": 51,
      "metadata": {
        "id": "aqpJqmxAx_eD",
        "outputId": "846c77d2-f9ba-4d96-e4df-4461c961f68a",
        "colab": {
          "base_uri": "https://localhost:8080/",
          "height": 265
        }
      },
      "outputs": [
        {
          "output_type": "display_data",
          "data": {
            "text/plain": [
              "<Figure size 432x288 with 1 Axes>"
            ],
            "image/png": "[encoded data removed]"
          },
          "metadata": {
            "needs_background": "light"
          }
        }
      ],
      "source": [
        "# line graph\n",
        "df['철수'].plot()\n",
        "plt.show()\n"
      ]
    },
    {
      "cell_type": "code",
      "execution_count": 52,
      "metadata": {
        "id": "MwK_YLo1x_eD",
        "outputId": "618cec33-fbbf-49be-f3ce-00015320f19c",
        "colab": {
          "base_uri": "https://localhost:8080/",
          "height": 261
        }
      },
      "outputs": [
        {
          "output_type": "display_data",
          "data": {
            "text/plain": [
              "<Figure size 432x288 with 1 Axes>"
            ],
            "image/png": "[encoded data removed]"
          },
          "metadata": {
            "needs_background": "light"
          }
        }
      ],
      "source": [
        "# 막대그래프\n",
        "df['철수'].plot.bar()\n",
        "plt.show()"
      ]
    },
    {
      "cell_type": "code",
      "execution_count": 54,
      "metadata": {
        "id": "vNdfgWZ9x_eD",
        "outputId": "f0d4cc75-c926-4d82-acfa-5554ba727e43",
        "colab": {
          "base_uri": "https://localhost:8080/",
          "height": 265
        }
      },
      "outputs": [
        {
          "output_type": "display_data",
          "data": {
            "text/plain": [
              "<Figure size 432x288 with 1 Axes>"
            ],
            "image/png": "[encoded data removed]"
          },
          "metadata": {
            "needs_background": "light"
          }
        }
      ],
      "source": [
        "# horizontal bar graph\n",
        "df['철수'].plot.barh()\n",
        "plt.show()"
      ]
    },
    {
      "cell_type": "code",
      "execution_count": 56,
      "metadata": {
        "scrolled": true,
        "id": "dQJ74jsxx_eE",
        "outputId": "36ce397e-dd1f-4189-f39d-f51a21e56f97",
        "colab": {
          "base_uri": "https://localhost:8080/",
          "height": 265
        }
      },
      "outputs": [
        {
          "output_type": "display_data",
          "data": {
            "text/plain": [
              "<Figure size 432x288 with 1 Axes>"
            ],
            "image/png": "[encoded data removed]"
          },
          "metadata": {
            "needs_background": "light"
          }
        }
      ],
      "source": [
        "# Histogram (interval setting)\n",
        "df['철수'].plot.hist(bins=range(1,6,1))\n",
        "plt.show()"
      ]
    },
    {
      "cell_type": "markdown",
      "metadata": {
        "id": "wt65FRkYx_eE"
      },
      "source": [
        "### # add options to a chart"
      ]
    },
    {
      "cell_type": "code",
      "execution_count": 57,
      "metadata": {
        "scrolled": true,
        "id": "PQmr7Crbx_eE",
        "outputId": "6ae9a5c2-2536-4c48-d199-243236e3f229",
        "colab": {
          "base_uri": "https://localhost:8080/",
          "height": 261
        }
      },
      "outputs": [
        {
          "output_type": "display_data",
          "data": {
            "text/plain": [
              "<Figure size 432x288 with 1 Axes>"
            ],
            "image/png": "[encoded data removed]"
          },
          "metadata": {
            "needs_background": "light"
          }
        }
      ],
      "source": [
        "df['철수'].plot.bar()\n",
        "plt.show()"
      ]
    },
    {
      "cell_type": "code",
      "execution_count": 59,
      "metadata": {
        "scrolled": true,
        "id": "Ehjep808x_eE",
        "outputId": "bdee23b2-841f-4eee-b6ab-8deabf8688bb",
        "colab": {
          "base_uri": "https://localhost:8080/",
          "height": 417
        }
      },
      "outputs": [
        {
          "output_type": "display_data",
          "data": {
            "text/plain": [
              "<Figure size 720x432 with 1 Axes>"
            ],
            "image/png": "[encoded data removed]"
          },
          "metadata": {
            "needs_background": "light"
          }
        }
      ],
      "source": [
        "df['철수'].plot.bar(figsize=[10,6])\n",
        "plt.title('Example',fontsize=18)\n",
        "plt.xlabel('xlabel', fontsize=16)\n",
        "plt.xlabel('ylabel', fontsize=16)\n",
        "plt.xticks([0,1,2],['first','second','third'],fontsize=10,rotation=0)\n",
        "plt.xticks([1,3,5,7],['first','third','fifth','Seventh'])\n",
        "plt.xlim([-1,4])\n",
        "plt.ylim([-1,8])\n",
        "plt.show()"
      ]
    }
  ],
  "metadata": {
    "kernelspec": {
      "display_name": "Python 3 (ipykernel)",
      "language": "python",
      "name": "python3"
    },
    "language_info": {
      "codemirror_mode": {
        "name": "ipython",
        "version": 3
      },
      "file_extension": ".py",
      "mimetype": "text/x-python",
      "name": "python",
      "nbconvert_exporter": "python",
      "pygments_lexer": "ipython3",
      "version": "3.9.7"
    },
    "colab": {
      "provenance": [],
      "include_colab_link": true
    }
  },
  "nbformat": 4,
  "nbformat_minor": 0
}